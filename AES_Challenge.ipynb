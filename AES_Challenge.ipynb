{
  "nbformat": 4,
  "nbformat_minor": 0,
  "metadata": {
    "colab": {
      "provenance": [],
      "authorship_tag": "ABX9TyNlBg/vmvxDaDSIdoijy7To",
      "include_colab_link": true
    },
    "kernelspec": {
      "name": "python3",
      "display_name": "Python 3"
    },
    "language_info": {
      "name": "python"
    }
  },
  "cells": [
    {
      "cell_type": "markdown",
      "metadata": {
        "id": "view-in-github",
        "colab_type": "text"
      },
      "source": [
        "<a href=\"https://colab.research.google.com/github/BrouthenKamel/Cryptography/blob/main/AES_Challenge.ipynb\" target=\"_parent\"><img src=\"https://colab.research.google.com/assets/colab-badge.svg\" alt=\"Open In Colab\"/></a>"
      ]
    },
    {
      "cell_type": "code",
      "source": [
        "pip install pycryptodome"
      ],
      "metadata": {
        "colab": {
          "base_uri": "https://localhost:8080/"
        },
        "id": "2fPRbQqTMjja",
        "outputId": "481336c6-253c-416b-9742-1a31431a0a53"
      },
      "execution_count": null,
      "outputs": [
        {
          "output_type": "stream",
          "name": "stdout",
          "text": [
            "Looking in indexes: https://pypi.org/simple, https://us-python.pkg.dev/colab-wheels/public/simple/\n",
            "Collecting pycryptodome\n",
            "  Downloading pycryptodome-3.17-cp35-abi3-manylinux_2_17_x86_64.manylinux2014_x86_64.whl (2.1 MB)\n",
            "\u001b[2K     \u001b[90m━━━━━━━━━━━━━━━━━━━━━━━━━━━━━━━━━━━━━━━━\u001b[0m \u001b[32m2.1/2.1 MB\u001b[0m \u001b[31m28.4 MB/s\u001b[0m eta \u001b[36m0:00:00\u001b[0m\n",
            "\u001b[?25hInstalling collected packages: pycryptodome\n",
            "Successfully installed pycryptodome-3.17\n"
          ]
        }
      ]
    },
    {
      "cell_type": "code",
      "source": [
        "import requests\n",
        "\n",
        "target_url = 'https://gist.githubusercontent.com/wchargin/8927565/raw/d9783627c731268fb2935a731a618aa8e95cf465/words'\n",
        "response = requests.get(target_url)\n",
        "data = response.text\n",
        "words = data.split(sep='\\n')\n",
        "words"
      ],
      "metadata": {
        "id": "ndoUlsPtM68b"
      },
      "execution_count": null,
      "outputs": []
    },
    {
      "cell_type": "code",
      "execution_count": null,
      "metadata": {
        "id": "fRq138c9MPEL"
      },
      "outputs": [],
      "source": [
        "from Crypto.Cipher import AES\n",
        "import hashlib\n",
        "import random\n",
        "\n",
        "# /usr/share/dict/words from\n",
        "# https://gist.githubusercontent.com/wchargin/8927565/raw/d9783627c731268fb2935a731a618aa8e95cf465/words\n",
        "keyword = random.choice(words)\n",
        "\n",
        "KEY = hashlib.md5(keyword.encode()).digest()\n",
        "FLAG = ''\n",
        "\n",
        "\n",
        "def decrypt(ciphertext, password_hash):\n",
        "    ciphertext = bytes.fromhex(ciphertext)\n",
        "    key = bytes.fromhex(password_hash)\n",
        "\n",
        "    cipher = AES.new(key, AES.MODE_ECB)\n",
        "    try:\n",
        "        decrypted = cipher.decrypt(ciphertext)\n",
        "    except ValueError as e:\n",
        "        return {\"error\": str(e)}\n",
        "\n",
        "    return {\"plaintext\": decrypted.hex()}\n",
        "\n",
        "\n",
        "def encrypt_flag():\n",
        "    cipher = AES.new(KEY, AES.MODE_ECB)\n",
        "    encrypted = cipher.encrypt(FLAG.encode())\n",
        "\n",
        "    return {\"ciphertext\": encrypted.hex()}"
      ]
    },
    {
      "cell_type": "code",
      "source": [
        "for i in words:\n",
        "  KEY = hashlib.md5(i.encode()).digest().hex()\n",
        "  plain = decrypt(\"c92b7734070205bdf6c0087a751466ec13ae15e6f1bcdd3f3a535ec0f4bbae66\", KEY)\n",
        "  if bytes.fromhex(plain['plaintext']).decode('latin-1')[:6] == \"crypto\":\n",
        "    print(plain['plaintext'])"
      ],
      "metadata": {
        "colab": {
          "base_uri": "https://localhost:8080/"
        },
        "id": "LpIZro10NeTO",
        "outputId": "26ded546-20e3-4ec3-9652-0228a0c1d0a2"
      },
      "execution_count": null,
      "outputs": [
        {
          "output_type": "stream",
          "name": "stdout",
          "text": [
            "63727970746f7b6b3379355f5f725f5f6e30375f5f70343535773072647a3f7d\n"
          ]
        }
      ]
    }
  ]
}