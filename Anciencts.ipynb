{
  "nbformat": 4,
  "nbformat_minor": 0,
  "metadata": {
    "colab": {
      "provenance": [],
      "authorship_tag": "ABX9TyOQn9tUcx5xEdTldIsDhmxn",
      "include_colab_link": true
    },
    "kernelspec": {
      "name": "python3",
      "display_name": "Python 3"
    },
    "language_info": {
      "name": "python"
    }
  },
  "cells": [
    {
      "cell_type": "markdown",
      "metadata": {
        "id": "view-in-github",
        "colab_type": "text"
      },
      "source": [
        "<a href=\"https://colab.research.google.com/github/BrouthenKamel/Cryptography/blob/main/Anciencts.ipynb\" target=\"_parent\"><img src=\"https://colab.research.google.com/assets/colab-badge.svg\" alt=\"Open In Colab\"/></a>"
      ]
    },
    {
      "cell_type": "markdown",
      "source": [
        "#!/usr/bin/env python3\n",
        "\n",
        "#from config import FLAG,key\n",
        "\n",
        "\n",
        "def encrypt(plaintext, key):\n",
        "    key= key.lower()\n",
        "    ciphertext = \"\"\n",
        "    key_i=0\n",
        "    for i in range(len(plaintext)):\n",
        "        char = plaintext[i]\n",
        "        if char.isalpha():\n",
        "            if char.islower():\n",
        "                low=True\n",
        "            else:\n",
        "                low=False\n",
        "                char = char.lower()\n",
        "            enc_char = chr((((ord(char)-97) + (ord(key[key_i%len(key)])-97)) % 26)+97)\n",
        "            if not low:\n",
        "                enc_char = enc_char.upper()\n",
        "            key_i+=1\n",
        "        else:\n",
        "            enc_char = char\n",
        "        ciphertext += enc_char\n",
        "\n",
        "    return ciphertext \n",
        "\n",
        "def decrypt():\n",
        "    print(\"Nah Nah Nah\")\n",
        "\n",
        "\n",
        "def main():\n",
        "   \n",
        "    \n",
        "    print('Welcome H4cK3r')\n",
        "    while True:\n",
        "        print('now choose your side:\\n\\t1) encrypt data\\n\\t2) decrypt data\\n\\t3) get the flag\\n\\t4) exit')\n",
        "        choice = input('>> ')\n",
        "        if choice == \"1\": \n",
        "            print('What do you want to encrypt?')\n",
        "            pt = input('> ')\n",
        "            print(encrypt(pt,key))\n",
        "            \n",
        "        elif choice == \"2\":\n",
        "             decrypt()\n",
        "            \n",
        "        elif choice == \"3\":\n",
        "            print(f\"Did you really tought I would easily give you the flag, but since you asked for it here is the encrypted flag: \")\n",
        "            print(f'The encrypted flag is: {encrypt(FLAG,key)}')\n",
        "        \n",
        "        elif choice == \"4\":\n",
        "             exit()\n",
        "            \n",
        "        else:\n",
        "            print(\"you have to choose between 1,2,3 or 4\")\n",
        "        \n",
        "if __name__ == \"__main__\":\n",
        "        main()"
      ],
      "metadata": {
        "id": "salk23l7XreY"
      }
    },
    {
      "cell_type": "code",
      "source": [
        "def decrypt(cyphertext, key):\n",
        "  key = key.lower()\n",
        "  plaintext = \"\"\n",
        "  key_i = 0\n",
        "  for i in range(len(cyphertext)):\n",
        "    char = cyphertext[i]\n",
        "    if char.isalpha():\n",
        "      if char.islower():\n",
        "        low = True\n",
        "      else:\n",
        "        low = False\n",
        "        char = char.lower()\n",
        "      dec_char = chr( ( ( ( ord(char) - 97 ) - ( ord(key[key_i%len(key)])-97 ) ) % 26 ) + 97 )\n",
        "      if not low :\n",
        "        dec_char = dec_char.upper()\n",
        "      key_i += 1\n",
        "    else:\n",
        "      dec_char = char\n",
        "    plaintext += dec_char\n",
        "  return plaintext "
      ],
      "metadata": {
        "id": "hRzheKuQdGlr"
      },
      "execution_count": 1,
      "outputs": []
    },
    {
      "cell_type": "code",
      "source": [
        "encrypted_flag = \"xprotfetwq{t1e3L3p3_c4$w_ApdBc0}\""
      ],
      "metadata": {
        "id": "VFPIyecYi7o0"
      },
      "execution_count": 2,
      "outputs": []
    },
    {
      "cell_type": "code",
      "source": [
        "decrypted = \"shellmates{*1*3*3*3_*4$*_*****0}\""
      ],
      "metadata": {
        "id": "1cvnNNXyjJqA"
      },
      "execution_count": 3,
      "outputs": []
    },
    {
      "cell_type": "code",
      "source": [
        "def get_key(enc, dec):\n",
        "  key_chars = []\n",
        "  for i in range(len(enc)):\n",
        "    enc_char = enc[i]\n",
        "    dec_char = dec[i]\n",
        "    if enc_char.isalpha():\n",
        "      if enc_char.islower():\n",
        "        low = True\n",
        "      else:\n",
        "        enc_char = enc_char.lower()\n",
        "        dec_char = dec_char.lower()\n",
        "        low = False\n",
        "      key_chars.append( chr( ( ord(dec_char) - ord(enc_char) ) % 26 + 97 ) )\n",
        "    else:\n",
        "      key_chars.append( enc[i] )\n",
        "  return key_chars"
      ],
      "metadata": {
        "id": "TipGaddpmkjl"
      },
      "execution_count": 7,
      "outputs": []
    },
    {
      "cell_type": "code",
      "source": [
        "enc = \"abcdefghijklmnopqrstuvwxyz\"\n",
        "dec = \"fjpgmykhahijklmnopxbhyeqcz\""
      ],
      "metadata": {
        "id": "nfQNizjfo2sm"
      },
      "execution_count": 8,
      "outputs": []
    },
    {
      "cell_type": "code",
      "source": [
        "print(''.join(get_key(enc, dec)))"
      ],
      "metadata": {
        "id": "s_1aVZSWpQUf",
        "outputId": "70f7d299-3900-4e86-e4a5-1e16ed674f51",
        "colab": {
          "base_uri": "https://localhost:8080/"
        }
      },
      "execution_count": 10,
      "outputs": [
        {
          "output_type": "stream",
          "name": "stdout",
          "text": [
            "finditeasyyyyyyyyyfinditea\n"
          ]
        }
      ]
    },
    {
      "cell_type": "code",
      "source": [
        "key=\"finditeasyyyyyyyyy\""
      ],
      "metadata": {
        "id": "f0ixKdMbpotl"
      },
      "execution_count": 11,
      "outputs": []
    },
    {
      "cell_type": "code",
      "source": [
        "print(decrypt(encrypted_flag, key))"
      ],
      "metadata": {
        "id": "EsRFEj10psOA",
        "outputId": "b174f116-1be8-43d5-c227-8dd6f25e5edf",
        "colab": {
          "base_uri": "https://localhost:8080/"
        }
      },
      "execution_count": 12,
      "outputs": [
        {
          "output_type": "stream",
          "name": "stdout",
          "text": [
            "shellmates{v1g3N3r3_e4$y_CryTp0}\n"
          ]
        }
      ]
    }
  ]
}