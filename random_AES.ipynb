{
  "nbformat": 4,
  "nbformat_minor": 0,
  "metadata": {
    "colab": {
      "provenance": [],
      "authorship_tag": "ABX9TyMPOfYgHAs/Bhf0P9kc/aHj",
      "include_colab_link": true
    },
    "kernelspec": {
      "name": "python3",
      "display_name": "Python 3"
    },
    "language_info": {
      "name": "python"
    }
  },
  "cells": [
    {
      "cell_type": "markdown",
      "metadata": {
        "id": "view-in-github",
        "colab_type": "text"
      },
      "source": [
        "<a href=\"https://colab.research.google.com/github/BrouthenKamel/Cryptography/blob/main/random_AES.ipynb\" target=\"_parent\"><img src=\"https://colab.research.google.com/assets/colab-badge.svg\" alt=\"Open In Colab\"/></a>"
      ]
    },
    {
      "cell_type": "code",
      "source": [
        "!pip install pycryptodome"
      ],
      "metadata": {
        "colab": {
          "base_uri": "https://localhost:8080/"
        },
        "id": "ulIo8LL9rQ9A",
        "outputId": "09625935-31c2-4f90-e9ad-022f7b43f5ef"
      },
      "execution_count": 112,
      "outputs": [
        {
          "output_type": "stream",
          "name": "stdout",
          "text": [
            "Looking in indexes: https://pypi.org/simple, https://us-python.pkg.dev/colab-wheels/public/simple/\n",
            "Requirement already satisfied: pycryptodome in /usr/local/lib/python3.8/dist-packages (3.17)\n"
          ]
        }
      ]
    },
    {
      "cell_type": "code",
      "execution_count": 113,
      "metadata": {
        "id": "6NTmvV9-qgLC"
      },
      "outputs": [],
      "source": [
        "flag = 'Si61t/S2+SwxnrgNPM74Qqs7+SemDwq00ncRUUg3tX4ITjvj0PO3uPNQGH900aAy'"
      ]
    },
    {
      "cell_type": "code",
      "source": [
        "from Crypto.Cipher import AES\n",
        "import base64\n",
        "import random\n",
        "\n",
        "MIN_RANGE = 1\n",
        "MAX_RANGE = 10000000000\n",
        "ENCRYPT_MSSG = \"Message to encrypt : \"\n",
        "OUT_FILENAME = \"enc\"\n",
        "DEFAULT_SEED = 10\n",
        "KEY_LEN = 16\n",
        "\n",
        "genKey = lambda : bytes([random.randint(0, 255) for _ in range(KEY_LEN)])\n",
        "\n",
        "class Encryptor:\n",
        "    def __init__(self, seed = DEFAULT_SEED):\n",
        "        self.__seed = seed\n",
        "    \n",
        "    def setSeed(self):\n",
        "        random.seed(self.__seed)\n",
        "\n",
        "    def pad(self, plaintext):\n",
        "        padding = b' ' * (16 - len(plaintext) % 16)\n",
        "        return plaintext + padding\n",
        "\n",
        "    def encrypt(self, mssg):\n",
        "        plaintext = mssg.encode()\n",
        "        plaintext = self.pad(plaintext)\n",
        "        key = genKey()\n",
        "        print(f\"key is {key} of length {len(key)}\")\n",
        "        cipher = AES.new(key, AES.MODE_ECB)\n",
        "\n",
        "        ciphertext = cipher.encrypt(plaintext)\n",
        "\n",
        "        return base64.b64encode(ciphertext).decode()\n",
        "\n",
        "# creating a new instance of the encryptor\n",
        "encryptor = Encryptor()\n",
        "\n",
        "# setting the __seed to a random unpredictable value\n",
        "encryptor.__seed = random.randint(MIN_RANGE, MAX_RANGE)\n",
        "\n",
        "# updating the random seed value\n",
        "encryptor.setSeed()\n",
        "\n",
        "# readin user input \n",
        "mssg = \"shellmates\"\n",
        "# encrypting the uesr input\n",
        "enc = encryptor.encrypt(mssg)\n",
        "\n",
        "print(enc)"
      ],
      "metadata": {
        "colab": {
          "base_uri": "https://localhost:8080/"
        },
        "id": "aodSNbiR8Dkp",
        "outputId": "0ad25182-13e0-4822-f7a7-87f69a4a65ca"
      },
      "execution_count": 136,
      "outputs": [
        {
          "output_type": "stream",
          "name": "stdout",
          "text": [
            "key is b'\\x10\\xdb\\xf7\\x07i\\xec\\xfb\\x8eR\\x11\\xfa\\xa7&\\x7f\\xb8\\x16' of length 16\n",
            "mVDx0U7+WDQ9RBfJuqsZSQ==\n"
          ]
        }
      ]
    },
    {
      "cell_type": "code",
      "source": [
        "key = b'\\x10\\xdb\\xf7\\x07i\\xec\\xfb\\x8eR\\x11\\xfa\\xa7&\\x7f\\xb8\\x16'"
      ],
      "metadata": {
        "id": "XHZzwMgo87f_"
      },
      "execution_count": 137,
      "outputs": []
    },
    {
      "cell_type": "code",
      "source": [
        "flag_enc = flag.encode()"
      ],
      "metadata": {
        "id": "T54J2wsu9oIy"
      },
      "execution_count": 142,
      "outputs": []
    },
    {
      "cell_type": "code",
      "source": [
        "cipher = AES.new(key, AES.MODE_ECB)"
      ],
      "metadata": {
        "id": "lrUYGC8X-HCd"
      },
      "execution_count": 143,
      "outputs": []
    },
    {
      "cell_type": "code",
      "source": [
        "plaintext = cipher.decrypt(flag_enc)"
      ],
      "metadata": {
        "id": "Pxkn2Eeg-L7g"
      },
      "execution_count": 145,
      "outputs": []
    },
    {
      "cell_type": "code",
      "source": [
        "final = base64.b64encode(plaintext)"
      ],
      "metadata": {
        "id": "e2QZ6xpD-X2w"
      },
      "execution_count": 150,
      "outputs": []
    },
    {
      "cell_type": "code",
      "source": [
        "final"
      ],
      "metadata": {
        "colab": {
          "base_uri": "https://localhost:8080/"
        },
        "id": "oZKY51oB-bNu",
        "outputId": "5948da63-5cfc-4f52-cffd-fb8fbe5b6fce"
      },
      "execution_count": 151,
      "outputs": [
        {
          "output_type": "execute_result",
          "data": {
            "text/plain": [
              "b'EtLv77oMwwGzqKdErhxcef3bAUVyrWCHJwdiCL/ULTR+rnmbvX49PFV4jjVxi5VjHeyLPO4b8gODON25AxvAGQ=='"
            ]
          },
          "metadata": {},
          "execution_count": 151
        }
      ]
    },
    {
      "cell_type": "code",
      "source": [
        "from Crypto.Cipher import AES\n",
        "import base64\n",
        "\n",
        "ciphertext = 'Si61t/S2+SwxnrgNPM74Qqs7+SemDwq00ncRUUg3tX4ITjvj0PO3uPNQGH900aAy'\n",
        "key = b'\\x10\\xdb\\xf7\\x07i\\xec\\xfb\\x8eR\\x11\\xfa\\xa7&\\x7f\\xb8\\x16'\n",
        "\n",
        "# decode the base64-encoded ciphertext\n",
        "ciphertext = base64.b64decode(ciphertext)\n",
        "\n",
        "# create an AES cipher object with the key and ECB mode\n",
        "cipher = AES.new(key, AES.MODE_ECB)\n",
        "\n",
        "# decrypt the ciphertext using the key repeatedly\n",
        "plaintext = b''\n",
        "for i in range(0, len(ciphertext), 16):\n",
        "    block = ciphertext[i:i+16]\n",
        "    decrypted_block = cipher.decrypt(block)\n",
        "    plaintext += decrypted_block\n",
        "\n",
        "# remove any padding from the plaintext\n",
        "plaintext = plaintext.rstrip()\n",
        "\n",
        "# convert the plaintext to a string and print it\n",
        "plaintext = plaintext.decode()\n",
        "print(plaintext)"
      ],
      "metadata": {
        "colab": {
          "base_uri": "https://localhost:8080/"
        },
        "id": "5-Nzvmy7Bc-M",
        "outputId": "68cfb268-47a5-4c4e-c32d-a00a5fea5f3b"
      },
      "execution_count": 152,
      "outputs": [
        {
          "output_type": "stream",
          "name": "stdout",
          "text": [
            "shellmates{priv4te_var1ables_BROK_MI_AES}\n"
          ]
        }
      ]
    }
  ]
}