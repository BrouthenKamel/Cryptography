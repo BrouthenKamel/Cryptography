{
  "nbformat": 4,
  "nbformat_minor": 0,
  "metadata": {
    "colab": {
      "provenance": [],
      "authorship_tag": "ABX9TyOO9nBh8CLbRc6iqQDFa+9L",
      "include_colab_link": true
    },
    "kernelspec": {
      "name": "python3",
      "display_name": "Python 3"
    },
    "language_info": {
      "name": "python"
    }
  },
  "cells": [
    {
      "cell_type": "markdown",
      "metadata": {
        "id": "view-in-github",
        "colab_type": "text"
      },
      "source": [
        "<a href=\"https://colab.research.google.com/github/BrouthenKamel/Cryptography/blob/main/Binary_Sequence.ipynb\" target=\"_parent\"><img src=\"https://colab.research.google.com/assets/colab-badge.svg\" alt=\"Open In Colab\"/></a>"
      ]
    },
    {
      "cell_type": "code",
      "execution_count": 1,
      "metadata": {
        "id": "UYgdJw2d0oR7"
      },
      "outputs": [],
      "source": [
        "with open('/content/cards.txt') as f:\n",
        "    contents = f.readlines()"
      ]
    },
    {
      "cell_type": "code",
      "source": [
        "s1 = \"\"\n",
        "s2 = \"\""
      ],
      "metadata": {
        "id": "RqaY_P_8007Z"
      },
      "execution_count": 31,
      "outputs": []
    },
    {
      "cell_type": "code",
      "source": [
        "for line in contents:\n",
        "  if line[0] == '4':\n",
        "    s1 += \"1\"\n",
        "    s2 += \"0\"\n",
        "  else:\n",
        "    s1 += \"0\"\n",
        "    s2 += \"1\""
      ],
      "metadata": {
        "id": "_2O2JaR01Dak"
      },
      "execution_count": 32,
      "outputs": []
    },
    {
      "cell_type": "code",
      "source": [
        "s1"
      ],
      "metadata": {
        "colab": {
          "base_uri": "https://localhost:8080/",
          "height": 70
        },
        "id": "rP1hfGZD3Y0q",
        "outputId": "3944c590-976f-40ba-f984-231e7a9e456d"
      },
      "execution_count": 33,
      "outputs": [
        {
          "output_type": "execute_result",
          "data": {
            "text/plain": [
              "'10001100100101111001101010010011100100111001001010011110100010111001101010001100100001001010100111001110110010101001111010100000110011111000110110100000101100101100101111001010110010001100110010001101101111001100101110001101100110111010000011001110110011111100111010000010'"
            ],
            "application/vnd.google.colaboratory.intrinsic+json": {
              "type": "string"
            }
          },
          "metadata": {},
          "execution_count": 33
        }
      ]
    },
    {
      "cell_type": "code",
      "source": [
        "s2"
      ],
      "metadata": {
        "colab": {
          "base_uri": "https://localhost:8080/",
          "height": 70
        },
        "id": "YDCKmuIw4TtP",
        "outputId": "ca86c21c-923c-41eb-bec1-1821590f3551"
      },
      "execution_count": 34,
      "outputs": [
        {
          "output_type": "execute_result",
          "data": {
            "text/plain": [
              "'01110011011010000110010101101100011011000110110101100001011101000110010101110011011110110101011000110001001101010110000101011111001100000111001001011111010011010011010000110101001101110011001101110010010000110011010001110010011001000101111100110001001100000011000101111101'"
            ],
            "application/vnd.google.colaboratory.intrinsic+json": {
              "type": "string"
            }
          },
          "metadata": {},
          "execution_count": 34
        }
      ]
    },
    {
      "cell_type": "code",
      "source": [
        "flag = \"shellmates{V15a_0r_M4573rC4rd_101}\"\n",
        "#decoding s2"
      ],
      "metadata": {
        "id": "4udrgrU54ku5"
      },
      "execution_count": 36,
      "outputs": []
    }
  ]
}