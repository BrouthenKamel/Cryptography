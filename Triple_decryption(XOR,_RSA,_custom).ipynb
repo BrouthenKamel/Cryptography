{
  "nbformat": 4,
  "nbformat_minor": 0,
  "metadata": {
    "colab": {
      "provenance": [],
      "authorship_tag": "ABX9TyPt0u7orn+uM29uofx+lLEE",
      "include_colab_link": true
    },
    "kernelspec": {
      "name": "python3",
      "display_name": "Python 3"
    },
    "language_info": {
      "name": "python"
    }
  },
  "cells": [
    {
      "cell_type": "markdown",
      "metadata": {
        "id": "view-in-github",
        "colab_type": "text"
      },
      "source": [
        "<a href=\"https://colab.research.google.com/github/BrouthenKamel/Cryptography/blob/main/Triple_decryption(XOR%2C_RSA%2C_custom).ipynb\" target=\"_parent\"><img src=\"https://colab.research.google.com/assets/colab-badge.svg\" alt=\"Open In Colab\"/></a>"
      ]
    },
    {
      "cell_type": "code",
      "source": [
        "!pip install pycryptodome\n",
        "from Crypto.Util.number import bytes_to_long, long_to_bytes, inverse\n",
        "flag_bin = open(\"enc.bin\",\"rb\").read()"
      ],
      "metadata": {
        "colab": {
          "base_uri": "https://localhost:8080/"
        },
        "id": "Alk8HXon14nn",
        "outputId": "2a9c32c0-df9b-48d5-f721-954e14ff61e8"
      },
      "execution_count": null,
      "outputs": [
        {
          "output_type": "stream",
          "name": "stdout",
          "text": [
            "Looking in indexes: https://pypi.org/simple, https://us-python.pkg.dev/colab-wheels/public/simple/\n",
            "Requirement already satisfied: pycryptodome in /usr/local/lib/python3.8/dist-packages (3.17)\n"
          ]
        }
      ]
    },
    {
      "cell_type": "code",
      "source": [
        "def phase3(val):\n",
        "    res=b''\n",
        "    for i in range(int(len(val)/2)):\n",
        "        res += long_to_bytes(val[i])\n",
        "        res += long_to_bytes(val[len(val)-i-1])\n",
        "    \n",
        "    if (len(val)%2!=0):\n",
        "        res += long_to_bytes(val[int(len(val)/2)])\n",
        "    \n",
        "    return res"
      ],
      "metadata": {
        "id": "cOaFkfigARgm"
      },
      "execution_count": null,
      "outputs": []
    },
    {
      "cell_type": "code",
      "source": [
        "def inv_phase3(res):\n",
        "  val_tmp = [ 0 for _ in range(len(res)) ]\n",
        "  for i in range(len(res)):\n",
        "    if i % 2 == 0:\n",
        "      val_tmp[i//2] = long_to_bytes(res[i])\n",
        "    else:\n",
        "      val_tmp[len(res)-(i//2)-1] = long_to_bytes(res[i])\n",
        "  val = b''.join(val_tmp)\n",
        "  return val"
      ],
      "metadata": {
        "id": "JXYctCl41Jdu"
      },
      "execution_count": null,
      "outputs": []
    },
    {
      "cell_type": "code",
      "source": [
        "flag3 = inv_phase3(flag_bin)\n",
        "flag3"
      ],
      "metadata": {
        "colab": {
          "base_uri": "https://localhost:8080/"
        },
        "id": "NaU1ZuqxAto4",
        "outputId": "315c984a-d7ea-4b15-a0cd-308e396f0fbf"
      },
      "execution_count": null,
      "outputs": [
        {
          "output_type": "execute_result",
          "data": {
            "text/plain": [
              "b'\\x17\\xf2\\xd0P\\x0fp\\xb2ti]g\\x86z\\xbe\\x95\\xbd\\xb1Jkl\\x9c\\xe0\\xa6\\xa1}\\x9f\\x84:\\x9d\\xca\\x1f\\xcc\\x18\\xa1$\\x9dN\\x8a\\xc1\\x80\\x0e\\xb7.L\\x8e\\x86Z\\xe4=\\x9b\\x7f\\x96\\xfc\\x83\\xea\\xd1M\\x05#\\xa9\\xc15\\x1b\\x9f'"
            ]
          },
          "metadata": {},
          "execution_count": 54
        }
      ]
    },
    {
      "cell_type": "code",
      "source": [
        "e = 65537\n",
        "p = 61571454303089397514579603620349373049341652571832994202527081254304368292533\n",
        "q = 59664824358038218622178548968528898444289564045465867369823072940589283303949\n",
        "n = p*q\n",
        "phi = (p-1)*(q-1)\n",
        "d = inverse(e,phi)"
      ],
      "metadata": {
        "id": "UvKfXll-5Ma9"
      },
      "execution_count": null,
      "outputs": []
    },
    {
      "cell_type": "code",
      "source": [
        "flag2 = long_to_bytes(pow(bytes_to_long(flag3), d, n))"
      ],
      "metadata": {
        "id": "PfzA0txzGv8R"
      },
      "execution_count": null,
      "outputs": []
    },
    {
      "cell_type": "code",
      "source": [
        "flag2"
      ],
      "metadata": {
        "colab": {
          "base_uri": "https://localhost:8080/"
        },
        "id": "r_9s6F0lG2hz",
        "outputId": "0d3546b8-c27a-4589-8e7b-ea821b5f1b89"
      },
      "execution_count": null,
      "outputs": [
        {
          "output_type": "execute_result",
          "data": {
            "text/plain": [
              "b'\\x1f\\r\\x00\\x18\\x00\\x08\\x04\\x00\\t\\x16\\x1e\\x13\\x0b:<D9:\\'&\\x03.V+!\\x1c:8\\\\\"T\\x173!U#\\x02\\x18'"
            ]
          },
          "metadata": {},
          "execution_count": 67
        }
      ]
    },
    {
      "cell_type": "code",
      "source": [
        "flag = b'U\\xb5\\xc1\\xab\\xce\\xc0\\x9a\\xf9\\x81\\x05\\xad\\xfb\\x8c\\xd6\\x07\\xf5<\\xc3\\xc2\\xae\\x10\\xf4\\xf6{\\n\\xf6l)lQb\\xb8\\xce\\xa1v\\xd7\\x93\\x89e\\x7f\\x1a\\x85|\\x9a\\x1e\\x13\\x1c\\xdb\\xda\\x07@<Q\\x03\\x0c\\xd0\\xc5z\\x89W\\xab*\\t\\xf7'"
      ],
      "metadata": {
        "id": "oC3BiHGYHcTo"
      },
      "execution_count": null,
      "outputs": []
    },
    {
      "cell_type": "code",
      "source": [
        "flag.decode('latin-1')"
      ],
      "metadata": {
        "colab": {
          "base_uri": "https://localhost:8080/",
          "height": 52
        },
        "id": "58EJTSKjHhj_",
        "outputId": "34c6b47d-4aa0-4674-868e-75ab4f07f8a1"
      },
      "execution_count": null,
      "outputs": [
        {
          "output_type": "execute_result",
          "data": {
            "text/plain": [
              "'UµÁ«ÎÀ\\x9aù\\x81\\x05\\xadû\\x8cÖ\\x07õ<ÃÂ®\\x10ôö{\\nöl)lQb¸Î¡v×\\x93\\x89e\\x7f\\x1a\\x85|\\x9a\\x1e\\x13\\x1cÛÚ\\x07@<Q\\x03\\x0cÐÅz\\x89W«*\\t÷'"
            ],
            "application/vnd.google.colaboratory.intrinsic+json": {
              "type": "string"
            }
          },
          "metadata": {},
          "execution_count": 62
        }
      ]
    }
  ]
}