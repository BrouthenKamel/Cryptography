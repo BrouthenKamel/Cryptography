{
  "nbformat": 4,
  "nbformat_minor": 0,
  "metadata": {
    "colab": {
      "provenance": [],
      "authorship_tag": "ABX9TyNj83CCaUV9CXGTxXnPKEvt",
      "include_colab_link": true
    },
    "kernelspec": {
      "name": "python3",
      "display_name": "Python 3"
    },
    "language_info": {
      "name": "python"
    },
    "accelerator": "GPU",
    "gpuClass": "standard"
  },
  "cells": [
    {
      "cell_type": "markdown",
      "metadata": {
        "id": "view-in-github",
        "colab_type": "text"
      },
      "source": [
        "<a href=\"https://colab.research.google.com/github/BrouthenKamel/Cryptography/blob/main/OTP.ipynb\" target=\"_parent\"><img src=\"https://colab.research.google.com/assets/colab-badge.svg\" alt=\"Open In Colab\"/></a>"
      ]
    },
    {
      "cell_type": "code",
      "execution_count": null,
      "metadata": {
        "colab": {
          "base_uri": "https://localhost:8080/"
        },
        "id": "PXN-88cJjIlQ",
        "outputId": "b09ca133-cf3c-42dc-e922-c3f0cedc5043"
      },
      "outputs": [
        {
          "output_type": "stream",
          "name": "stdout",
          "text": [
            "Welcome H4cK3r\n"
          ]
        }
      ],
      "source": [
        "#!/usr/bin/env python3\n",
        "import os\n",
        "#from config import FLAG , key\n",
        "\n",
        "\n",
        "def xor(a, b):\n",
        "    len_a = len(a)\n",
        "    len_b = len(b)\n",
        "    # Determine the length of the longer array\n",
        "    max_len = max(len_a, len_b)\n",
        "    # Determine the length of the shorter array\n",
        "    min_len = min(len_a, len_b)\n",
        "    # Repeat the shorter array to match the length of the longer array\n",
        "    if len_a < len_b:\n",
        "        a = bytearray((a * (max_len // min_len + 1))[:max_len])\n",
        "    elif len_b < len_a:\n",
        "        b = bytearray((b * (max_len // min_len + 1))[:max_len])\n",
        "    # XOR the bytes and return the result as a bytes object\n",
        "    result = bytearray(a_byte ^ b_byte for a_byte, b_byte in zip(a, b))\n",
        "    return bytes(result)\n",
        "\n",
        "def generate_pad(length):\n",
        "    pad = os.urandom(length)\n",
        "    return pad\n",
        "\n",
        "def encrypt_OTP(text, pad):\n",
        "    result = xor(text,pad)\n",
        "    return result\n",
        "\n",
        "\n",
        "def main():\n",
        "    print('Welcome H4cK3r')\n",
        "    for _ in range(9999999999999999999999999):\n",
        "        #print('now choose your side:\\n\\t1) encrypt data\\n\\t2) get the flag\\n\\t3) exit')\n",
        "        choice = \"1\"\n",
        "        if choice == \"1\": \n",
        "            #print('What do you want to encrypt?')\n",
        "            pt = encrypted_flag\n",
        "            pad = generate_pad(32)\n",
        "            if encrypt_OTP(pt, pad)[:11] == b'shellmates{':\n",
        "              print(encrypt_OTP(pt, pad))\n",
        "            \n",
        "        elif choice == \"2\":\n",
        "            print(f\"Did you really tought I would easily give you the flag, but since you asked for it here is the encrypted flag: \")\n",
        "            print(f'The encrypted flag is: {encrypt_OTP(FLAG,key)}')\n",
        "            \n",
        "        elif choice == \"3\":\n",
        "            print('Bye Bye')\n",
        "            exit()\n",
        "        else:\n",
        "            print(\"you should choose one of the options\")\n",
        "   \n",
        " \n",
        "if __name__ == \"__main__\":\n",
        "        main()\n"
      ]
    },
    {
      "cell_type": "code",
      "source": [
        "encrypted_flag = b'a\\xf2\\xbd\\r\\xe2\\x96m\\xea\\xfesi\\xf5\\x96$\\xa3\\xafE\\xf3\\xfe_B\\xdb\\x9c>\\xe1\\xaf|\\xc1\\xe3o`\\xe7'"
      ],
      "metadata": {
        "id": "6KuHOnwomQMT"
      },
      "execution_count": 2,
      "outputs": []
    },
    {
      "cell_type": "code",
      "source": [
        "print(len(encrypted_flag))"
      ],
      "metadata": {
        "colab": {
          "base_uri": "https://localhost:8080/"
        },
        "id": "qoUMfXISmTTL",
        "outputId": "815d1e26-1dbd-417d-8056-c6f1c730c288"
      },
      "execution_count": 7,
      "outputs": [
        {
          "output_type": "stream",
          "name": "stdout",
          "text": [
            "32\n"
          ]
        }
      ]
    },
    {
      "cell_type": "code",
      "source": [
        "plaintext = b'shellmates{00000000000000000000}'"
      ],
      "metadata": {
        "id": "DMXqh9AqtlW7"
      },
      "execution_count": 13,
      "outputs": []
    },
    {
      "cell_type": "code",
      "source": [
        "key = xor(encrypted_flag, plaintext)"
      ],
      "metadata": {
        "id": "naX-vFsLtr7U"
      },
      "execution_count": 15,
      "outputs": []
    },
    {
      "cell_type": "code",
      "source": [
        "!pip install pycryptodome\n",
        "from Crypto.Util.number import long_to_bytes"
      ],
      "metadata": {
        "colab": {
          "base_uri": "https://localhost:8080/"
        },
        "id": "P3Z8F3WyzH82",
        "outputId": "9c9b3bcf-f3d1-44f6-a1f3-513c8d708a81"
      },
      "execution_count": 24,
      "outputs": [
        {
          "output_type": "stream",
          "name": "stdout",
          "text": [
            "Looking in indexes: https://pypi.org/simple, https://us-python.pkg.dev/colab-wheels/public/simple/\n",
            "Requirement already satisfied: pycryptodome in /usr/local/lib/python3.8/dist-packages (3.17)\n"
          ]
        }
      ]
    },
    {
      "cell_type": "code",
      "source": [
        "print(long_to_bytes(key[-1]))"
      ],
      "metadata": {
        "colab": {
          "base_uri": "https://localhost:8080/"
        },
        "id": "YXC73uMXt6ln",
        "outputId": "494f9053-18ab-499d-bcc5-3af3b75a6a95"
      },
      "execution_count": 25,
      "outputs": [
        {
          "output_type": "stream",
          "name": "stdout",
          "text": [
            "b'\\x9a'\n"
          ]
        }
      ]
    }
  ]
}