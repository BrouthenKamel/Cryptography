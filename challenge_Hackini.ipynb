{
  "nbformat": 4,
  "nbformat_minor": 0,
  "metadata": {
    "colab": {
      "provenance": [],
      "authorship_tag": "ABX9TyNzD22TiratXr/km/VDnF9J",
      "include_colab_link": true
    },
    "kernelspec": {
      "name": "python3",
      "display_name": "Python 3"
    },
    "language_info": {
      "name": "python"
    }
  },
  "cells": [
    {
      "cell_type": "markdown",
      "metadata": {
        "id": "view-in-github",
        "colab_type": "text"
      },
      "source": [
        "<a href=\"https://colab.research.google.com/github/BrouthenKamel/Cryptography/blob/main/challenge_Hackini.ipynb\" target=\"_parent\"><img src=\"https://colab.research.google.com/assets/colab-badge.svg\" alt=\"Open In Colab\"/></a>"
      ]
    },
    {
      "cell_type": "code",
      "source": [
        "!pip install pycryptodome"
      ],
      "metadata": {
        "colab": {
          "base_uri": "https://localhost:8080/"
        },
        "id": "MtEwSa5TZXZ9",
        "outputId": "41713364-b9b3-4e91-fc75-37fcb5521beb"
      },
      "execution_count": null,
      "outputs": [
        {
          "output_type": "stream",
          "name": "stdout",
          "text": [
            "Looking in indexes: https://pypi.org/simple, https://us-python.pkg.dev/colab-wheels/public/simple/\n",
            "Collecting pycryptodome\n",
            "  Downloading pycryptodome-3.17-cp35-abi3-manylinux_2_17_x86_64.manylinux2014_x86_64.whl (2.1 MB)\n",
            "\u001b[2K     \u001b[90m━━━━━━━━━━━━━━━━━━━━━━━━━━━━━━━━━━━━━━━━\u001b[0m \u001b[32m2.1/2.1 MB\u001b[0m \u001b[31m23.3 MB/s\u001b[0m eta \u001b[36m0:00:00\u001b[0m\n",
            "\u001b[?25hInstalling collected packages: pycryptodome\n",
            "Successfully installed pycryptodome-3.17\n"
          ]
        }
      ]
    },
    {
      "cell_type": "code",
      "source": [
        "key = b'\\xf5[\\x87\\xdcgU\\xf3\\x15<\\x13\\xbd\\xeb\\xe3oB\\xc1'\n",
        "ct = [(18314691702203403319353194406492849050960127239753769560629246203745542276809831910387, 311927348190560039912240308862298991107535837659327268124075506076268746974874201579387), (18841455019603513552309033611055983132653571187377659784105362937102277868973120808762, 286341042860967255517470919567902192479040137864895156970888775686923355453521081729627), (17407979824937345525795593138310707621018450257935276087281842101256122642666641410434, 265090530158610952267953092840386311422099536735661645548675598163220703235140344758961), (25118651285109333690994131384004213487542251377204413830235828573267798491580396328637, 379143744639060806809703232672211579395682531230405259697270854178359078645870710721872), (9712290521891495832904946400620277416136290836225330143031241378982610204336373423845, 146558600444769817187683973212659508674033093941605024585121964425681672060807753005402)]"
      ],
      "metadata": {
        "id": "cpilIZMZZpR-"
      },
      "execution_count": null,
      "outputs": []
    },
    {
      "cell_type": "code",
      "execution_count": null,
      "metadata": {
        "colab": {
          "base_uri": "https://localhost:8080/"
        },
        "id": "nAfQu97LZWKN",
        "outputId": "0aca039c-83af-45da-c491-02b414680f21"
      },
      "outputs": [
        {
          "output_type": "stream",
          "name": "stdout",
          "text": [
            "FLAG0000 0\n",
            "R = 808464432 while R>>5 = 25264513\n"
          ]
        }
      ],
      "source": [
        "from Crypto.Util.number import bytes_to_long\n",
        "import os\n",
        "\n",
        "key = os.urandom(16)\n",
        "K = [bytes_to_long(key[i:i+4]) for i in range(0,len(key),4)]\n",
        "\n",
        "def encrypt(plaintext):\n",
        "    ciphertext = []\n",
        "    plaintext += \"0\" * (8 - len(plaintext) % 8)\n",
        "\n",
        "    #print(plaintext)\n",
        "\n",
        "    for i in range(0,len(plaintext),8):\n",
        "        block = plaintext[i:i+8]\n",
        "        print(block, i)\n",
        "        L = block[0:4]\n",
        "        R = block[4:8]\n",
        "\n",
        "        #print(f\"L -> {L} - L.encode() -> {L.encode()}\")\n",
        "        \n",
        "        L = bytes_to_long(L.encode())\n",
        "        R = bytes_to_long(R.encode())\n",
        "\n",
        "        print(f\"R = {R} while R>>5 = {R >> 5}\")\n",
        "\n",
        "        delta = 0x9e3779b9\n",
        "        #print(f\"delta is {delta}\")\n",
        "        sum = 0\n",
        "        for i in range(32):\n",
        "            sum += delta\n",
        "            #print(f\"sum = {sum} when i = {i}\")\n",
        "            L += ((R << 4) + K[0]) ^ (R + sum) ^ ((R >> 5) + K[1])\n",
        "            R += ((L << 4) + K[2]) ^ (L + sum) ^ ((L >> 5) + K[3])\n",
        "        block = (L , R)\n",
        "\n",
        "        ciphertext.append(block)\n",
        "\n",
        "    return ciphertext"
      ]
    },
    {
      "cell_type": "code",
      "source": [
        "from Crypto.Util.number import long_to_bytes"
      ],
      "metadata": {
        "id": "5dq7fP1Tmn8l"
      },
      "execution_count": null,
      "outputs": []
    },
    {
      "cell_type": "code",
      "source": [
        "key = b'\\xf5[\\x87\\xdcgU\\xf3\\x15<\\x13\\xbd\\xeb\\xe3oB\\xc1'\n",
        "ct = [(18314691702203403319353194406492849050960127239753769560629246203745542276809831910387, 311927348190560039912240308862298991107535837659327268124075506076268746974874201579387), (18841455019603513552309033611055983132653571187377659784105362937102277868973120808762, 286341042860967255517470919567902192479040137864895156970888775686923355453521081729627), (17407979824937345525795593138310707621018450257935276087281842101256122642666641410434, 265090530158610952267953092840386311422099536735661645548675598163220703235140344758961), (25118651285109333690994131384004213487542251377204413830235828573267798491580396328637, 379143744639060806809703232672211579395682531230405259697270854178359078645870710721872), (9712290521891495832904946400620277416136290836225330143031241378982610204336373423845, 146558600444769817187683973212659508674033093941605024585121964425681672060807753005402)]"
      ],
      "metadata": {
        "id": "1K9m4V-tlfBp"
      },
      "execution_count": null,
      "outputs": []
    },
    {
      "cell_type": "code",
      "source": [
        "K = [bytes_to_long(key[i:i+4]) for i in range(0,len(key),4)]"
      ],
      "metadata": {
        "id": "E3_lTTbOlgr_"
      },
      "execution_count": null,
      "outputs": []
    },
    {
      "cell_type": "code",
      "source": [
        "delta = 0x9e3779b9"
      ],
      "metadata": {
        "id": "L8U_Q-cflwLs"
      },
      "execution_count": null,
      "outputs": []
    },
    {
      "cell_type": "code",
      "source": [
        "def decrypt(key, ct):\n",
        "  plaintext = []\n",
        "  for LR_couple in ct:\n",
        "    # decrypting every bloc\n",
        "    L = LR_couple[0]\n",
        "    R = LR_couple[1]\n",
        "    for i in range(32):\n",
        "      R -= ((L << 4) + K[2]) ^ (L + (32-i)*delta) ^ ((L >> 5) + K[3])\n",
        "      L -= ((R << 4) + K[0]) ^ (R + (32-i)*delta) ^ ((R >> 5) + K[1])\n",
        "    R = long_to_bytes(R)\n",
        "    L = long_to_bytes(L)\n",
        "    plaintext.append(L+R)\n",
        "  return plaintext"
      ],
      "metadata": {
        "id": "06_c0EX7jq2Z"
      },
      "execution_count": null,
      "outputs": []
    },
    {
      "cell_type": "code",
      "source": [
        "decrypt(key, ct)"
      ],
      "metadata": {
        "colab": {
          "base_uri": "https://localhost:8080/"
        },
        "id": "gjOYEF5UmXks",
        "outputId": "8ef075c1-a209-4e54-bc20-47d4e0ad3625"
      },
      "execution_count": null,
      "outputs": [
        {
          "output_type": "execute_result",
          "data": {
            "text/plain": [
              "[b'shellmat', b'es{TEA_1', b's_t45tY!', b'_7f1a2b3', b'c}000000']"
            ]
          },
          "metadata": {},
          "execution_count": 59
        }
      ]
    }
  ]
}